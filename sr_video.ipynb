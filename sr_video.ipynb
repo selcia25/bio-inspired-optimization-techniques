{
  "cells": [
    {
      "cell_type": "code",
      "execution_count": 10,
      "metadata": {
        "id": "Uytf-FaxJ6Y-"
      },
      "outputs": [
        {
          "name": "stdout",
          "output_type": "stream",
          "text": [
            "Extracted 94 frames.\n"
          ]
        }
      ],
      "source": [
        "import cv2\n",
        "import os\n",
        "\n",
        "# Create a directory to store the frames\n",
        "if not os.path.exists(\"frames\"):\n",
        "    os.makedirs(\"frames\")\n",
        "\n",
        "# Read the video\n",
        "video = cv2.VideoCapture(\"video.mp4\")\n",
        "success, frame = video.read()\n",
        "count = 0\n",
        "\n",
        "while success:\n",
        "    cv2.imwrite(f\"frames/frame{count:04d}.jpg\", frame)\n",
        "    success, frame = video.read()\n",
        "    count += 1\n",
        "\n",
        "video.release()\n",
        "print(f\"Extracted {count} frames.\")\n"
      ]
    },
    {
      "cell_type": "code",
      "execution_count": 11,
      "metadata": {
        "colab": {
          "base_uri": "https://localhost:8080/"
        },
        "id": "L4FkrI6nJ6Y_",
        "outputId": "f2f3e641-fbd7-4b89-9f58-539775f3cd38"
      },
      "outputs": [
        {
          "name": "stdout",
          "output_type": "stream",
          "text": [
            "Processed frame: frame0000.jpg\n",
            "Processed frame: frame0001.jpg\n",
            "Processed frame: frame0002.jpg\n",
            "Processed frame: frame0003.jpg\n",
            "Processed frame: frame0004.jpg\n",
            "Processed frame: frame0005.jpg\n"
          ]
        }
      ],
      "source": [
        "import cv2\n",
        "import numpy as np\n",
        "import os\n",
        "import matplotlib.pyplot as plt\n",
        "\n",
        "frame_folder = \"frames\"\n",
        "processed_folder = \"processed_frames\"\n",
        "\n",
        "# Create a directory to store the processed frames\n",
        "if not os.path.exists(processed_folder):\n",
        "    os.makedirs(processed_folder)\n",
        "\n",
        "frame_files = sorted([f for f in os.listdir(frame_folder) if f.endswith(\".jpg\")])\n",
        "\n",
        "for frame_file in frame_files:\n",
        "    reference = cv2.imread(os.path.join(frame_folder, frame_file), cv2.IMREAD_GRAYSCALE)\n",
        "    M, N = reference.shape\n",
        "    low_quality = reference * 0.01\n",
        "    threshold = np.sum(low_quality) / (M * N)\n",
        "    mse = np.zeros(50)\n",
        "    sigma = 0\n",
        "    SR = np.zeros((M, N))\n",
        "    \n",
        "    for epoch in range(50):\n",
        "        sigma += 0.1\n",
        "        for _ in range(10):\n",
        "            noisy = sigma * np.random.rand(M, N) + low_quality\n",
        "            modified = np.zeros_like(noisy)\n",
        "            for i in range(M):\n",
        "                for j in range(N):\n",
        "                    if noisy[i, j] > threshold:\n",
        "                        modified[i, j] = 255\n",
        "                    else:\n",
        "                        modified[i, j] = 0\n",
        "            SR += modified\n",
        "        SR /= 10\n",
        "        error = reference - SR\n",
        "        mse[epoch] = np.sum(error**2) / (M * N)\n",
        "        mse[epoch] = np.sqrt(mse[epoch])\n",
        "\n",
        "        if epoch > 0:\n",
        "            if mse[epoch - 1] > mse[epoch]:\n",
        "                best = SR.copy()\n",
        "\n",
        "    processed_frame_path = os.path.join(processed_folder, frame_file)\n",
        "    cv2.imwrite(processed_frame_path, best)\n",
        "    print(f\"Processed frame: {frame_file}\")"
      ]
    },
    {
      "cell_type": "code",
      "execution_count": 8,
      "metadata": {
        "id": "-qInxqFVJ6ZB"
      },
      "outputs": [
        {
          "ename": "AttributeError",
          "evalue": "'NoneType' object has no attribute 'shape'",
          "output_type": "error",
          "traceback": [
            "\u001b[1;31m---------------------------------------------------------------------------\u001b[0m",
            "\u001b[1;31mAttributeError\u001b[0m                            Traceback (most recent call last)",
            "Cell \u001b[1;32mIn[8], line 7\u001b[0m\n\u001b[0;32m      5\u001b[0m dest\u001b[38;5;241m=\u001b[39m\u001b[38;5;124m\"\u001b[39m\u001b[38;5;124mC:\u001b[39m\u001b[38;5;130;01m\\\\\u001b[39;00m\u001b[38;5;124mUsers\u001b[39m\u001b[38;5;130;01m\\\\\u001b[39;00m\u001b[38;5;124msselc\u001b[39m\u001b[38;5;130;01m\\\\\u001b[39;00m\u001b[38;5;124mOneDrive\u001b[39m\u001b[38;5;130;01m\\\\\u001b[39;00m\u001b[38;5;124mDesktop\u001b[39m\u001b[38;5;130;01m\\\\\u001b[39;00m\u001b[38;5;124mBIOA\u001b[39m\u001b[38;5;130;01m\\\\\u001b[39;00m\u001b[38;5;124mmodel1\u001b[39m\u001b[38;5;130;01m\\\\\u001b[39;00m\u001b[38;5;124msr_data\u001b[39m\u001b[38;5;124m\"\u001b[39m\u001b[38;5;241m+\u001b[39mimage\n\u001b[0;32m      6\u001b[0m refer\u001b[38;5;241m=\u001b[39mcv2\u001b[38;5;241m.\u001b[39mimread(path,cv2\u001b[38;5;241m.\u001b[39mIMREAD_GRAYSCALE)\n\u001b[1;32m----> 7\u001b[0m M,N\u001b[38;5;241m=\u001b[39m\u001b[43mrefer\u001b[49m\u001b[38;5;241;43m.\u001b[39;49m\u001b[43mshape\u001b[49m\n\u001b[0;32m      8\u001b[0m low_quality\u001b[38;5;241m=\u001b[39mrefer\u001b[38;5;241m*\u001b[39m\u001b[38;5;241m0.01\u001b[39m\n\u001b[0;32m      9\u001b[0m threshold\u001b[38;5;241m=\u001b[39mnp\u001b[38;5;241m.\u001b[39msum(low_quality)\u001b[38;5;241m/\u001b[39m(M\u001b[38;5;241m*\u001b[39mN)\n",
            "\u001b[1;31mAttributeError\u001b[0m: 'NoneType' object has no attribute 'shape'"
          ]
        }
      ],
      "source": [
        "import cv2\n",
        "import os\n",
        "\n",
        "processed_folder = \"processed_frames\"\n",
        "output_video = \"output_video.mp4\"\n",
        "frame_files = sorted([f for f in os.listdir(processed_folder) if f.endswith(\".jpg\")])\n",
        "\n",
        "# Read the first frame to get the dimensions\n",
        "frame = cv2.imread(os.path.join(processed_folder, frame_files[0]))\n",
        "height, width = frame.shape\n",
        "\n",
        "# Define the codec and create VideoWriter object\n",
        "fourcc = cv2.VideoWriter_fourcc(*'mp4v')\n",
        "video = cv2.VideoWriter(output_video, fourcc, 30, (width, height), isColor=False)\n",
        "\n",
        "for frame_file in frame_files:\n",
        "    frame = cv2.imread(os.path.join(processed_folder, frame_file), cv2.IMREAD_GRAYSCALE)\n",
        "    video.write(cv2.cvtColor(frame, cv2.COLOR_GRAY2BGR))\n",
        "\n",
        "video.release()\n",
        "print(f\"Processed video saved as {output_video}\")\n"
      ]
    }
  ],
  "metadata": {
    "colab": {
      "provenance": []
    },
    "kernelspec": {
      "display_name": "Python 3.10.5 64-bit",
      "language": "python",
      "name": "python3"
    },
    "language_info": {
      "codemirror_mode": {
        "name": "ipython",
        "version": 3
      },
      "file_extension": ".py",
      "mimetype": "text/x-python",
      "name": "python",
      "nbconvert_exporter": "python",
      "pygments_lexer": "ipython3",
      "version": "3.11.9"
    },
    "orig_nbformat": 4,
    "vscode": {
      "interpreter": {
        "hash": "26de051ba29f2982a8de78e945f0abaf191376122a1563185a90213a26c5da77"
      }
    }
  },
  "nbformat": 4,
  "nbformat_minor": 0
}
