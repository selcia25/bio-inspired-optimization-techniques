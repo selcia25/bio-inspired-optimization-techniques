{
 "cells": [
  {
   "cell_type": "code",
   "execution_count": null,
   "metadata": {},
   "outputs": [],
   "source": [
    "import random\n",
    "\n",
    "def roulette_wheel_selection(population, fitness_values):\n",
    "    total_fitness = sum(fitness_values)\n",
    "    probabilities = [fitness_value / total_fitness for fitness_value in fitness_values]\n",
    "\n",
    "    random_number = random.uniform(0,1)\n",
    "\n",
    "    cumulative = 0\n",
    "    for i, prob in enumerate(probabilities):\n",
    "        cumulative += prob\n",
    "        if random_number <= cumulative:\n",
    "            return population[i]"
   ]
  },
  {
   "cell_type": "code",
   "execution_count": null,
   "metadata": {},
   "outputs": [],
   "source": [
    "# 3, 4, 1, 5, 2 - Frequentist approach\n",
    "\n",
    "population = [1, 2, 3, 4, 5, 6]\n",
    "fitness_values = [18, 8, 39, 21, 14, 12]\n",
    "selected = []\n",
    "\n",
    "for i in range(100):\n",
    "    selected_item = roulette_wheel_selection(population, fitness_values)\n",
    "    selected.append(selected_item)\n",
    "#print(selected)\n",
    "\n",
    "dict1 = {}\n",
    "\n",
    "for i in selected:\n",
    "    if i not in dict1:\n",
    "        dict1[i] = 1\n",
    "    else:\n",
    "        dict1[i] += 1\n",
    "print(dict1)\n",
    "\n",
    "for i in dict1.values():\n",
    "    print(i/100)"
   ]
  },
  {
   "cell_type": "code",
   "execution_count": null,
   "metadata": {},
   "outputs": [],
   "source": [
    "import matplotlib.pyplot as plt\n",
    "\n",
    "labels = ['1', '2', '3', '4', '5', '6']\n",
    "sizes = [18, 8, 39, 21, 14, 12]\n",
    "colors = ['gold', 'yellowgreen', 'lightcoral', 'lightskyblue', 'pink', 'blue']\n",
    "\n",
    "plt.figure(figsize=(4, 4))\n",
    "plt.pie(sizes, labels=labels, colors=colors, autopct='%1.1f%%', startangle=140)\n",
    "plt.axis('equal')\n",
    "plt.title('Roulette Wheel')\n",
    "plt.show()"
   ]
  }
 ],
 "metadata": {
  "language_info": {
   "name": "python"
  }
 },
 "nbformat": 4,
 "nbformat_minor": 2
}
