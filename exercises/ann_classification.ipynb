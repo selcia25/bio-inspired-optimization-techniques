{
 "cells": [
  {
   "cell_type": "code",
   "execution_count": 11,
   "metadata": {},
   "outputs": [],
   "source": [
    "import numpy as np"
   ]
  },
  {
   "cell_type": "code",
   "execution_count": 12,
   "metadata": {},
   "outputs": [],
   "source": [
    "# Input data\n",
    "X = np.array([[1,0,0,1,1, 1,1,0,1,1, 1,1,0,1,1, 1,1,0,1,1, 1,0,0,0,1],\n",
    "              [0,0,0,0,1, 1,1,1,1,0, 1,0,0,0,1, 0,1,1,1,1, 0,0,0,0,0],\n",
    "              [0,0,0,0,1, 1,1,1,1,0, 1,0,0,0,1, 1,1,1,1,0, 0,0,0,0,1],\n",
    "              [1,1,1,0,1, 1,1,0,0,1, 1,0,1,0,1, 0,0,0,0,0, 1,1,1,0,1],\n",
    "              [0,0,0,0,0, 0,1,1,1,1, 0,0,0,0,1, 1,1,1,1,0, 0,0,0,0,1]])\n",
    "\n",
    "# Output data\n",
    "y = np.array([[1,0,0,0,0],\n",
    "              [0,1,0,0,0],\n",
    "              [0,0,1,0,0],\n",
    "              [0,0,0,1,0],\n",
    "              [0,0,0,0,1]])"
   ]
  },
  {
   "cell_type": "code",
   "execution_count": 13,
   "metadata": {},
   "outputs": [
    {
     "name": "stdout",
     "output_type": "stream",
     "text": [
      "Input Neurons: 25\n",
      "Hidden Neurons: 50\n",
      "Output Neurons: 5\n"
     ]
    }
   ],
   "source": [
    "input_layer_neurons = X.shape[1]\n",
    "hidden_layer_neurons = 50\n",
    "output_layer_neurons = y.shape[1]\n",
    "print(f\"Input Neurons: {input_layer_neurons}\\nHidden Neurons: {hidden_layer_neurons}\\nOutput Neurons: {output_layer_neurons}\")"
   ]
  },
  {
   "cell_type": "code",
   "execution_count": 14,
   "metadata": {},
   "outputs": [],
   "source": [
    "# Random initialization of weights\n",
    "np.random.seed(42)  # For reproducibility\n",
    "W1 = np.random.randn(hidden_layer_neurons, input_layer_neurons)\n",
    "W2 = np.random.randn(output_layer_neurons, hidden_layer_neurons)\n",
    "alpha = 0.9\n",
    "mse = []"
   ]
  },
  {
   "cell_type": "code",
   "execution_count": 15,
   "metadata": {},
   "outputs": [],
   "source": [
    "# Get the size of X\n",
    "size_of_X = X.shape[0]\n",
    "for epochs in range(500):\n",
    "    total_error = 0\n",
    "    for value in range(size_of_X):\n",
    "        x = X[value, :]\n",
    "        d = y[value]\n",
    "\n",
    "        # Forward pass\n",
    "        weighted_sum_input2hidden = np.dot(W1, x)\n",
    "        sigmoid_input2hidden = 1 / (1 + np.exp(-weighted_sum_input2hidden))\n",
    "\n",
    "        weighted_sum_hidden2output = np.dot(W2, sigmoid_input2hidden)\n",
    "        sigmoid_hidden2output = 1 / (1 + np.exp(-weighted_sum_hidden2output))\n",
    "\n",
    "        # Calculate error\n",
    "        error = d - sigmoid_hidden2output\n",
    "        total_error += np.sum(error**2)\n",
    "        delta_output = sigmoid_hidden2output * (1 - sigmoid_hidden2output) * error\n",
    "\n",
    "        # Backpropagation\n",
    "        error_at_hidden = np.dot(W2.T, delta_output)\n",
    "        delta_hidden = sigmoid_input2hidden * (1 - sigmoid_input2hidden) * error_at_hidden\n",
    "\n",
    "        # Weight updates\n",
    "        dW1 = alpha * np.dot(delta_hidden.reshape(-1, 1), x.reshape(1, -1))\n",
    "        W1 = W1 + dW1\n",
    "        dW2 = alpha * np.dot(delta_output.reshape(-1, 1), sigmoid_input2hidden.reshape(1, -1))\n",
    "        W2 = W2 + dW2\n",
    "\n",
    "    mse.append(total_error / size_of_X)\n",
    "mse = np.array(mse).flatten()"
   ]
  },
  {
   "cell_type": "code",
   "execution_count": 16,
   "metadata": {},
   "outputs": [
    {
     "data": {
      "text/plain": [
       "(500,)"
      ]
     },
     "execution_count": 16,
     "metadata": {},
     "output_type": "execute_result"
    }
   ],
   "source": [
    "mse.shape"
   ]
  },
  {
   "cell_type": "code",
   "execution_count": 17,
   "metadata": {},
   "outputs": [
    {
     "data": {
      "image/png": "[encoded data removed]",
      "text/plain": [
       "<Figure size 640x480 with 1 Axes>"
      ]
     },
     "metadata": {},
     "output_type": "display_data"
    }
   ],
   "source": [
    "import matplotlib.pyplot as plt\n",
    "# Plot the mean squared error\n",
    "plt.plot(range(500), mse)\n",
    "plt.xlabel('Epoch')\n",
    "plt.ylabel('Mean Squared Error')\n",
    "plt.title('MSE vs. Epoch')\n",
    "plt.show()"
   ]
  },
  {
   "cell_type": "code",
   "execution_count": 18,
   "metadata": {},
   "outputs": [],
   "source": [
    "# Assuming x_new is a 1D array representing a single input\n",
    "def predict(x_new):\n",
    "    x = x_new.reshape(-1, 1)\n",
    "    \n",
    "    # Forward pass\n",
    "    weighted_sum_input2hidden = np.dot(W1, x)\n",
    "    sigmoid_input2hidden = 1 / (1 + np.exp(-weighted_sum_input2hidden))\n",
    "\n",
    "    weighted_sum_hidden2output = np.dot(W2, sigmoid_input2hidden)\n",
    "    sigmoid_hidden2output = 1 / (1 + np.exp(-weighted_sum_hidden2output))\n",
    "    \n",
    "    # Assuming sigmoid_hidden2output is a 1D array representing the output layer\n",
    "    # The predicted class is the index of the maximum value in sigmoid_hidden2output\n",
    "    predicted_class = np.argmax(sigmoid_hidden2output)\n",
    "    \n",
    "    return predicted_class\n"
   ]
  },
  {
   "cell_type": "code",
   "execution_count": 19,
   "metadata": {},
   "outputs": [
    {
     "data": {
      "image/png": "[encoded data removed]",
      "text/plain": [
       "<Figure size 200x200 with 1 Axes>"
      ]
     },
     "metadata": {},
     "output_type": "display_data"
    },
    {
     "name": "stdout",
     "output_type": "stream",
     "text": [
      "Predicted digit: 3\n"
     ]
    }
   ],
   "source": [
    "# Example usage\n",
    "x_new = np.array([0,0,0,0,1, 1,1,1,1,0, 1,0,0,0,1, 1,1,1,1,0, 0,0,0,0,1])\n",
    "image = x_new.reshape(5,5)\n",
    "# Plot the image\n",
    "plt.figure(figsize=(2,2))\n",
    "plt.title(\"Input Image\")\n",
    "plt.imshow(image, cmap='binary')\n",
    "plt.axis('off')  # Hide axes\n",
    "plt.show()\n",
    "predicted_digit = predict(x_new)\n",
    "print(f\"Predicted digit: {predicted_digit+1}\")"
   ]
  },
  {
   "cell_type": "code",
   "execution_count": 20,
   "metadata": {},
   "outputs": [
    {
     "name": "stdout",
     "output_type": "stream",
     "text": [
      "Predicted output for image 1: [[9.84999842e-01 8.17254525e-03 4.66351736e-04 9.04989337e-03\n",
      "  6.93616706e-03]]\n",
      "Predicted output for image 2: [[0.01104809 0.97916653 0.01723294 0.00815269 0.00674923]]\n",
      "Predicted output for image 3: [[0.00570397 0.01677865 0.97484491 0.00218918 0.01557478]]\n",
      "Predicted output for image 4: [[0.00283582 0.00775769 0.00722663 0.98754276 0.00119739]]\n",
      "Predicted output for image 5: [[0.01017641 0.00454448 0.01713388 0.0057257  0.98279287]]\n"
     ]
    }
   ],
   "source": [
    "# Training code\n",
    "\n",
    "# Inference loop\n",
    "for k in range(5):  # Inference\n",
    "    x = X[k, :].reshape(-1, 1)\n",
    "    # Forward pass\n",
    "    weighted_sum_input2hidden = np.dot(W1, x)\n",
    "    sigmoid_input2hidden = 1 / (1 + np.exp(-weighted_sum_input2hidden))\n",
    "\n",
    "    weighted_sum_hidden2output = np.dot(W2, sigmoid_input2hidden)\n",
    "    sigmoid_hidden2output = 1 / (1 + np.exp(-weighted_sum_hidden2output))\n",
    "    print(f\"Predicted output for image {k+1}:\", sigmoid_hidden2output.T)\n",
    "\n"
   ]
  }
 ],
 "metadata": {
  "kernelspec": {
   "display_name": "Python 3",
   "language": "python",
   "name": "python3"
  },
  "language_info": {
   "codemirror_mode": {
    "name": "ipython",
    "version": 3
   },
   "file_extension": ".py",
   "mimetype": "text/x-python",
   "name": "python",
   "nbconvert_exporter": "python",
   "pygments_lexer": "ipython3",
   "version": "3.11.9"
  }
 },
 "nbformat": 4,
 "nbformat_minor": 2
}
